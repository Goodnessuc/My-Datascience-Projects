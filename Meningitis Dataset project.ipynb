{
 "cells": [
  {
   "cell_type": "markdown",
   "metadata": {},
   "source": [
    "# IMPORTED AND READ THE DATA "
   ]
  },
  {
   "cell_type": "code",
   "execution_count": 1,
   "metadata": {
    "ExecuteTime": {
     "end_time": "2020-11-16T05:50:07.100771Z",
     "start_time": "2020-11-16T05:49:31.520942Z"
    }
   },
   "outputs": [
    {
     "data": {
      "text/html": [
       "        <script type=\"text/javascript\">\n",
       "        window.PlotlyConfig = {MathJaxConfig: 'local'};\n",
       "        if (window.MathJax) {MathJax.Hub.Config({SVG: {font: \"STIX-Web\"}});}\n",
       "        if (typeof require !== 'undefined') {\n",
       "        require.undef(\"plotly\");\n",
       "        requirejs.config({\n",
       "            paths: {\n",
       "                'plotly': ['https://cdn.plot.ly/plotly-latest.min']\n",
       "            }\n",
       "        });\n",
       "        require(['plotly'], function(Plotly) {\n",
       "            window._Plotly = Plotly;\n",
       "        });\n",
       "        }\n",
       "        </script>\n",
       "        "
      ]
     },
     "metadata": {},
     "output_type": "display_data"
    },
    {
     "data": {
      "text/html": [
       "        <script type=\"text/javascript\">\n",
       "        window.PlotlyConfig = {MathJaxConfig: 'local'};\n",
       "        if (window.MathJax) {MathJax.Hub.Config({SVG: {font: \"STIX-Web\"}});}\n",
       "        if (typeof require !== 'undefined') {\n",
       "        require.undef(\"plotly\");\n",
       "        requirejs.config({\n",
       "            paths: {\n",
       "                'plotly': ['https://cdn.plot.ly/plotly-latest.min']\n",
       "            }\n",
       "        });\n",
       "        require(['plotly'], function(Plotly) {\n",
       "            window._Plotly = Plotly;\n",
       "        });\n",
       "        }\n",
       "        </script>\n",
       "        "
      ]
     },
     "metadata": {},
     "output_type": "display_data"
    }
   ],
   "source": [
    "import seaborn as sns\n",
    "import pandas as pd\n",
    "from plotly.offline import download_plotlyjs, init_notebook_mode,iplot, plot\n",
    "import matplotlib.pyplot as plt\n",
    "%matplotlib inline\n",
    "import matplotlib\n",
    "import cufflinks as cf\n",
    "init_notebook_mode(connected=True)\n",
    "cf.go_offline()\n",
    "sns.set_style('whitegrid')"
   ]
  },
  {
   "cell_type": "code",
   "execution_count": 2,
   "metadata": {
    "ExecuteTime": {
     "end_time": "2020-11-16T05:50:12.680029Z",
     "start_time": "2020-11-16T05:50:07.116771Z"
    }
   },
   "outputs": [],
   "source": [
    "meningitis_data = pd.read_csv(r\"C:\\Users\\user\\Videos\\meningitis_dataset.csv\",index_col='firstname')"
   ]
  },
  {
   "cell_type": "markdown",
   "metadata": {},
   "source": [
    "# FILTERED DATA FOR EASY USE "
   ]
  },
  {
   "cell_type": "code",
   "execution_count": 3,
   "metadata": {
    "ExecuteTime": {
     "end_time": "2020-11-16T05:50:12.928022Z",
     "start_time": "2020-11-16T05:50:12.697025Z"
    }
   },
   "outputs": [],
   "source": [
    "meningitis_data.drop(['serotype','id','null_serotype','viral_haemmorrhaphic_fever',\"surname\",'measles',\"middlename\",\"date_of_birth\",\"meningitis\",'diarrhoea','cholera','age_str','ebola','marburg_virus','yellow_fever',\"report_date\",'rubella_mars','malaria','gender_male','gender_female','rural_settlement','urban_settlement','NmA','NmC','NmW','unconfirmed','confirmed','null_serotype','alive','dead'],axis=1,inplace=True)"
   ]
  },
  {
   "cell_type": "markdown",
   "metadata": {},
   "source": [
    "# CHANGED A COLUMNS NAME AND MAPPED BINARY VALUES TO STRINGS\n"
   ]
  },
  {
   "cell_type": "code",
   "execution_count": 4,
   "metadata": {
    "ExecuteTime": {
     "end_time": "2020-11-16T05:50:13.065022Z",
     "start_time": "2020-11-16T05:50:12.935023Z"
    }
   },
   "outputs": [],
   "source": [
    "meningitis_data.rename(columns= {\"child_group\":\"Age_group\"}, inplace=True)"
   ]
  },
  {
   "cell_type": "code",
   "execution_count": 5,
   "metadata": {
    "ExecuteTime": {
     "end_time": "2020-11-16T05:50:13.315197Z",
     "start_time": "2020-11-16T05:50:13.073030Z"
    },
    "code_folding": []
   },
   "outputs": [],
   "source": [
    "meningitis_data['Age_group'] = meningitis_data['Age_group'].map({1:'child', 0:'adult'})"
   ]
  },
  {
   "cell_type": "code",
   "execution_count": 6,
   "metadata": {
    "ExecuteTime": {
     "end_time": "2020-11-16T05:50:13.497440Z",
     "start_time": "2020-11-16T05:50:13.334207Z"
    }
   },
   "outputs": [
    {
     "data": {
      "text/html": [
       "<div>\n",
       "<style scoped>\n",
       "    .dataframe tbody tr th:only-of-type {\n",
       "        vertical-align: middle;\n",
       "    }\n",
       "\n",
       "    .dataframe tbody tr th {\n",
       "        vertical-align: top;\n",
       "    }\n",
       "\n",
       "    .dataframe thead th {\n",
       "        text-align: right;\n",
       "    }\n",
       "</style>\n",
       "<table border=\"1\" class=\"dataframe\">\n",
       "  <thead>\n",
       "    <tr style=\"text-align: right;\">\n",
       "      <th></th>\n",
       "      <th>gender</th>\n",
       "      <th>state</th>\n",
       "      <th>settlement</th>\n",
       "      <th>report_year</th>\n",
       "      <th>age</th>\n",
       "      <th>Age_group</th>\n",
       "      <th>adult_group</th>\n",
       "      <th>disease</th>\n",
       "      <th>health_status</th>\n",
       "      <th>report_outcome</th>\n",
       "    </tr>\n",
       "    <tr>\n",
       "      <th>firstname</th>\n",
       "      <th></th>\n",
       "      <th></th>\n",
       "      <th></th>\n",
       "      <th></th>\n",
       "      <th></th>\n",
       "      <th></th>\n",
       "      <th></th>\n",
       "      <th></th>\n",
       "      <th></th>\n",
       "      <th></th>\n",
       "    </tr>\n",
       "  </thead>\n",
       "  <tbody>\n",
       "    <tr>\n",
       "      <th>Grace</th>\n",
       "      <td>Female</td>\n",
       "      <td>Rivers</td>\n",
       "      <td>Rural</td>\n",
       "      <td>2018</td>\n",
       "      <td>32</td>\n",
       "      <td>adult</td>\n",
       "      <td>1</td>\n",
       "      <td>Cholera</td>\n",
       "      <td>alive</td>\n",
       "      <td>confirmed</td>\n",
       "    </tr>\n",
       "    <tr>\n",
       "      <th>Kure</th>\n",
       "      <td>Male</td>\n",
       "      <td>Ebonyi</td>\n",
       "      <td>Rural</td>\n",
       "      <td>2017</td>\n",
       "      <td>32</td>\n",
       "      <td>adult</td>\n",
       "      <td>1</td>\n",
       "      <td>Marburg Virus</td>\n",
       "      <td>Alive</td>\n",
       "      <td>Confirmed</td>\n",
       "    </tr>\n",
       "    <tr>\n",
       "      <th>Adaugo</th>\n",
       "      <td>Female</td>\n",
       "      <td>Ogun</td>\n",
       "      <td>Urban</td>\n",
       "      <td>2012</td>\n",
       "      <td>24</td>\n",
       "      <td>adult</td>\n",
       "      <td>1</td>\n",
       "      <td>Marburg Virus</td>\n",
       "      <td>Dead</td>\n",
       "      <td>Not Confirmed</td>\n",
       "    </tr>\n",
       "    <tr>\n",
       "      <th>Mooslemat</th>\n",
       "      <td>Female</td>\n",
       "      <td>Ondo</td>\n",
       "      <td>Rural</td>\n",
       "      <td>2010</td>\n",
       "      <td>63</td>\n",
       "      <td>adult</td>\n",
       "      <td>1</td>\n",
       "      <td>Measles</td>\n",
       "      <td>Alive</td>\n",
       "      <td>Not Confirmed</td>\n",
       "    </tr>\n",
       "    <tr>\n",
       "      <th>Yusuf</th>\n",
       "      <td>Male</td>\n",
       "      <td>Oyo</td>\n",
       "      <td>Urban</td>\n",
       "      <td>2017</td>\n",
       "      <td>9</td>\n",
       "      <td>child</td>\n",
       "      <td>0</td>\n",
       "      <td>Rubella Mars</td>\n",
       "      <td>Alive</td>\n",
       "      <td>Confirmed</td>\n",
       "    </tr>\n",
       "  </tbody>\n",
       "</table>\n",
       "</div>"
      ],
      "text/plain": [
       "           gender   state settlement  report_year  age Age_group  adult_group  \\\n",
       "firstname                                                                       \n",
       "Grace      Female  Rivers      Rural         2018   32     adult            1   \n",
       "Kure         Male  Ebonyi      Rural         2017   32     adult            1   \n",
       "Adaugo     Female    Ogun      Urban         2012   24     adult            1   \n",
       "Mooslemat  Female    Ondo      Rural         2010   63     adult            1   \n",
       "Yusuf        Male     Oyo      Urban         2017    9     child            0   \n",
       "\n",
       "                 disease health_status report_outcome  \n",
       "firstname                                              \n",
       "Grace            Cholera         alive      confirmed  \n",
       "Kure       Marburg Virus         Alive      Confirmed  \n",
       "Adaugo     Marburg Virus          Dead  Not Confirmed  \n",
       "Mooslemat        Measles         Alive  Not Confirmed  \n",
       "Yusuf       Rubella Mars         Alive      Confirmed  "
      ]
     },
     "execution_count": 6,
     "metadata": {},
     "output_type": "execute_result"
    }
   ],
   "source": [
    "meningitis_data.head()"
   ]
  },
  {
   "cell_type": "code",
   "execution_count": 7,
   "metadata": {
    "ExecuteTime": {
     "end_time": "2020-11-16T05:50:13.675457Z",
     "start_time": "2020-11-16T05:50:13.514438Z"
    }
   },
   "outputs": [
    {
     "data": {
      "text/plain": [
       "2    7492\n",
       "3    6935\n",
       "4    6628\n",
       "5    6346\n",
       "6    5735\n",
       "Name: age, dtype: int64"
      ]
     },
     "execution_count": 7,
     "metadata": {},
     "output_type": "execute_result"
    }
   ],
   "source": [
    "agess = meningitis_data['age']\n",
    "meningitis_data['age'].value_counts().head()"
   ]
  },
  {
   "cell_type": "code",
   "execution_count": 8,
   "metadata": {
    "ExecuteTime": {
     "end_time": "2020-11-16T05:50:18.422435Z",
     "start_time": "2020-11-16T05:50:13.723441Z"
    }
   },
   "outputs": [
    {
     "data": {
      "text/plain": [
       "<matplotlib.axes._subplots.AxesSubplot at 0x2ceedb49820>"
      ]
     },
     "execution_count": 8,
     "metadata": {},
     "output_type": "execute_result"
    },
    {
     "data": {
      "image/png": "[encoded data removed]",
      "text/plain": [
       "<Figure size 432x288 with 1 Axes>"
      ]
     },
     "metadata": {},
     "output_type": "display_data"
    }
   ],
   "source": [
    "sns.distplot(agess,kde=False, color='red')"
   ]
  },
  {
   "cell_type": "code",
   "execution_count": 9,
   "metadata": {
    "ExecuteTime": {
     "end_time": "2020-11-16T05:50:18.607434Z",
     "start_time": "2020-11-16T05:50:18.436439Z"
    }
   },
   "outputs": [
    {
     "data": {
      "text/plain": [
       "Niger      7842\n",
       "Ondo       7835\n",
       "Kano       7822\n",
       "Bayelsa    7797\n",
       "Imo        7783\n",
       "Name: state, dtype: int64"
      ]
     },
     "execution_count": 9,
     "metadata": {},
     "output_type": "execute_result"
    }
   ],
   "source": [
    "meningitis_data['state'].value_counts().head() #states with most cases"
   ]
  },
  {
   "cell_type": "code",
   "execution_count": 10,
   "metadata": {
    "ExecuteTime": {
     "end_time": "2020-11-16T05:50:18.877435Z",
     "start_time": "2020-11-16T05:50:18.616434Z"
    }
   },
   "outputs": [
    {
     "data": {
      "text/plain": [
       "adult    201498\n",
       "child     82986\n",
       "Name: Age_group, dtype: int64"
      ]
     },
     "execution_count": 10,
     "metadata": {},
     "output_type": "execute_result"
    }
   ],
   "source": [
    "meningitis_data['Age_group'].value_counts().head() # popular with adult"
   ]
  },
  {
   "cell_type": "code",
   "execution_count": 11,
   "metadata": {
    "ExecuteTime": {
     "end_time": "2020-11-16T05:50:19.047431Z",
     "start_time": "2020-11-16T05:50:18.889433Z"
    }
   },
   "outputs": [
    {
     "data": {
      "text/plain": [
       "2    7492\n",
       "3    6935\n",
       "4    6628\n",
       "5    6346\n",
       "6    5735\n",
       "Name: age, dtype: int64"
      ]
     },
     "execution_count": 11,
     "metadata": {},
     "output_type": "execute_result"
    }
   ],
   "source": [
    "meningitis_data['age'].value_counts().head() # affects children a lot more"
   ]
  },
  {
   "cell_type": "code",
   "execution_count": 12,
   "metadata": {
    "ExecuteTime": {
     "end_time": "2020-11-16T05:50:19.895427Z",
     "start_time": "2020-11-16T05:50:19.070432Z"
    }
   },
   "outputs": [
    {
     "data": {
      "text/plain": [
       "gender  health_status\n",
       "Female  Alive            75986\n",
       "        Dead             71286\n",
       "Male    Alive            68733\n",
       "        Dead             68479\n",
       "Name: health_status, dtype: int64"
      ]
     },
     "execution_count": 12,
     "metadata": {},
     "output_type": "execute_result"
    }
   ],
   "source": [
    "meningitis_data['health_status']['Grace'] = \"Alive\"\n",
    "gender_status = meningitis_data.groupby('gender')[\"health_status\"].value_counts() \n",
    "gender_status\n",
    "# More females in the dataset"
   ]
  },
  {
   "cell_type": "code",
   "execution_count": 13,
   "metadata": {
    "ExecuteTime": {
     "end_time": "2020-11-16T05:50:20.937437Z",
     "start_time": "2020-11-16T05:50:19.905433Z"
    }
   },
   "outputs": [
    {
     "data": {
      "image/png": "[encoded data removed]",
      "text/plain": [
       "<Figure size 432x288 with 1 Axes>"
      ]
     },
     "metadata": {},
     "output_type": "display_data"
    }
   ],
   "source": [
    "count__plot =sns.countplot(meningitis_data.groupby('gender')[\"health_status\"].value_counts())"
   ]
  },
  {
   "cell_type": "code",
   "execution_count": 14,
   "metadata": {
    "ExecuteTime": {
     "end_time": "2020-11-16T05:50:21.053429Z",
     "start_time": "2020-11-16T05:50:20.944428Z"
    }
   },
   "outputs": [
    {
     "data": {
      "text/plain": [
       "Female    147272\n",
       "Male      137212\n",
       "Name: gender, dtype: int64"
      ]
     },
     "execution_count": 14,
     "metadata": {},
     "output_type": "execute_result"
    }
   ],
   "source": [
    "meningitis_data['gender'].value_counts()"
   ]
  },
  {
   "cell_type": "code",
   "execution_count": 15,
   "metadata": {
    "ExecuteTime": {
     "end_time": "2020-11-16T05:50:21.415433Z",
     "start_time": "2020-11-16T05:50:21.072427Z"
    }
   },
   "outputs": [
    {
     "data": {
      "text/plain": [
       "settlement  health_status\n",
       "Rural       Alive            72307\n",
       "            Dead             70256\n",
       "Urban       Alive            72412\n",
       "            Dead             69509\n",
       "Name: health_status, dtype: int64"
      ]
     },
     "execution_count": 15,
     "metadata": {},
     "output_type": "execute_result"
    }
   ],
   "source": [
    "settlement_deaths_status = meningitis_data.groupby('settlement')[\"health_status\"].value_counts() \n",
    "settlement_deaths_status"
   ]
  },
  {
   "cell_type": "code",
   "execution_count": 16,
   "metadata": {
    "ExecuteTime": {
     "end_time": "2020-11-16T05:50:21.872430Z",
     "start_time": "2020-11-16T05:50:21.423428Z"
    }
   },
   "outputs": [
    {
     "data": {
      "text/plain": [
       "settlement\n",
       "Rural    142563\n",
       "Urban    141921\n",
       "Name: health_status, dtype: int64"
      ]
     },
     "execution_count": 16,
     "metadata": {},
     "output_type": "execute_result"
    }
   ],
   "source": [
    "meningitis_data.groupby('settlement').count()['health_status']\n",
    "# rural settlement has the most cases"
   ]
  },
  {
   "cell_type": "code",
   "execution_count": 17,
   "metadata": {
    "ExecuteTime": {
     "end_time": "2020-11-16T05:50:21.985429Z",
     "start_time": "2020-11-16T05:50:21.879428Z"
    }
   },
   "outputs": [
    {
     "data": {
      "text/plain": [
       "Confirmed        144275\n",
       "Not Confirmed    140209\n",
       "Name: report_outcome, dtype: int64"
      ]
     },
     "execution_count": 17,
     "metadata": {},
     "output_type": "execute_result"
    }
   ],
   "source": [
    "meningitis_data['report_outcome']['Grace'] = \"Confirmed\"\n",
    "meningitis_data['report_outcome'].value_counts()"
   ]
  },
  {
   "cell_type": "code",
   "execution_count": 18,
   "metadata": {
    "ExecuteTime": {
     "end_time": "2020-11-16T05:50:22.140432Z",
     "start_time": "2020-11-16T05:50:21.992431Z"
    },
    "scrolled": true
   },
   "outputs": [
    {
     "data": {
      "text/plain": [
       "2013    28745\n",
       "Name: report_year, dtype: int64"
      ]
     },
     "execution_count": 18,
     "metadata": {},
     "output_type": "execute_result"
    }
   ],
   "source": [
    "meningitis_data['report_year'].value_counts().head(n=1)\n",
    "# 2013 has the most cases "
   ]
  },
  {
   "cell_type": "code",
   "execution_count": 19,
   "metadata": {
    "ExecuteTime": {
     "end_time": "2020-11-16T05:50:22.468429Z",
     "start_time": "2020-11-16T05:50:22.162432Z"
    }
   },
   "outputs": [
    {
     "data": {
      "text/plain": [
       "report_year  health_status\n",
       "2009         Dead             13946\n",
       "2010         Dead             14052\n",
       "2011         Dead             13835\n",
       "2012         Dead             14060\n",
       "2013         Dead             14111\n",
       "2014         Dead             13862\n",
       "2015         Dead             13821\n",
       "2016         Dead             14095\n",
       "2017         Dead             14115\n",
       "2018         Dead             13868\n",
       "Name: health_status, dtype: int64"
      ]
     },
     "execution_count": 19,
     "metadata": {},
     "output_type": "execute_result"
    }
   ],
   "source": [
    "meningitis_data[meningitis_data[\"health_status\"] == \"Dead\"].groupby(\"report_year\")[\"health_status\"].value_counts()"
   ]
  },
  {
   "cell_type": "code",
   "execution_count": 20,
   "metadata": {
    "ExecuteTime": {
     "end_time": "2020-11-16T05:50:26.266428Z",
     "start_time": "2020-11-16T05:50:22.477430Z"
    }
   },
   "outputs": [
    {
     "data": {
      "text/plain": [
       "<seaborn.axisgrid.JointGrid at 0x2ceedac00a0>"
      ]
     },
     "execution_count": 20,
     "metadata": {},
     "output_type": "execute_result"
    },
    {
     "data": {
      "image/png": "[encoded data removed]",
      "text/plain": [
       "<Figure size 432x432 with 3 Axes>"
      ]
     },
     "metadata": {},
     "output_type": "display_data"
    }
   ],
   "source": [
    "sns.jointplot(data=meningitis_data.head(n=30),kind='kde',x='age',y='adult_group')\n",
    "# plot  of age by adult"
   ]
  },
  {
   "cell_type": "code",
   "execution_count": 21,
   "metadata": {
    "ExecuteTime": {
     "end_time": "2020-11-16T05:50:29.005447Z",
     "start_time": "2020-11-16T05:50:26.272426Z"
    }
   },
   "outputs": [
    {
     "data": {
      "text/plain": [
       "<seaborn.axisgrid.FacetGrid at 0x2ceece02070>"
      ]
     },
     "execution_count": 21,
     "metadata": {},
     "output_type": "execute_result"
    },
    {
     "data": {
      "image/png": "[encoded data removed]",
      "text/plain": [
       "<Figure size 432x216 with 2 Axes>"
      ]
     },
     "metadata": {},
     "output_type": "display_data"
    }
   ],
   "source": [
    "g = sns.FacetGrid(data=meningitis_data,col='gender')\n",
    "g.map(plt.hist,\"age\")\n",
    "#distribution of gender by age"
   ]
  },
  {
   "cell_type": "code",
   "execution_count": 22,
   "metadata": {
    "ExecuteTime": {
     "end_time": "2020-11-16T05:50:30.835435Z",
     "start_time": "2020-11-16T05:50:29.021465Z"
    },
    "scrolled": true
   },
   "outputs": [
    {
     "data": {
      "text/plain": [
       "Text(0.5, 1.0, 'meningitis_data.corr()')"
      ]
     },
     "execution_count": 22,
     "metadata": {},
     "output_type": "execute_result"
    },
    {
     "data": {
      "image/png": "[encoded data removed]",
      "text/plain": [
       "<Figure size 432x288 with 2 Axes>"
      ]
     },
     "metadata": {},
     "output_type": "display_data"
    }
   ],
   "source": [
    "sns.heatmap(meningitis_data.corr(),cmap='coolwarm')\n",
    "plt.title('meningitis_data.corr()')"
   ]
  },
  {
   "cell_type": "code",
   "execution_count": null,
   "metadata": {},
   "outputs": [],
   "source": []
  }
 ],
 "metadata": {
  "kernelspec": {
   "display_name": "Python 3",
   "language": "python",
   "name": "python3"
  },
  "language_info": {
   "codemirror_mode": {
    "name": "ipython",
    "version": 3
   },
   "file_extension": ".py",
   "mimetype": "text/x-python",
   "name": "python",
   "nbconvert_exporter": "python",
   "pygments_lexer": "ipython3",
   "version": "3.8.3"
  },
  "latex_envs": {
   "LaTeX_envs_menu_present": true,
   "autoclose": false,
   "autocomplete": true,
   "bibliofile": "biblio.bib",
   "cite_by": "apalike",
   "current_citInitial": 1,
   "eqLabelWithNumbers": true,
   "eqNumInitial": 1,
   "hotkeys": {
    "equation": "Ctrl-E",
    "itemize": "Ctrl-I"
   },
   "labels_anchors": false,
   "latex_user_defs": false,
   "report_style_numbering": false,
   "user_envs_cfg": false
  },
  "nbTranslate": {
   "displayLangs": [
    "*"
   ],
   "hotkey": "alt-t",
   "langInMainMenu": true,
   "sourceLang": "en",
   "targetLang": "fr",
   "useGoogleTranslate": true
  },
  "toc": {
   "base_numbering": 1,
   "nav_menu": {},
   "number_sections": true,
   "sideBar": true,
   "skip_h1_title": false,
   "title_cell": "Table of Contents",
   "title_sidebar": "Contents",
   "toc_cell": false,
   "toc_position": {},
   "toc_section_display": true,
   "toc_window_display": false
  }
 },
 "nbformat": 4,
 "nbformat_minor": 4
}
